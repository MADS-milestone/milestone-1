{
  "nbformat": 4,
  "nbformat_minor": 0,
  "metadata": {
    "colab": {
      "name": "milestone1.ipynb",
      "provenance": [],
      "collapsed_sections": []
    },
    "kernelspec": {
      "name": "python3",
      "display_name": "Python 3"
    }
  },
  "cells": [
    {
      "cell_type": "markdown",
      "metadata": {
        "id": "f02Vrliy_cco"
      },
      "source": [
        "## Scenario/Stakeholder Based Analysis of NYC taxi rides data\r\n",
        "##### Authors: Panini Mokrala, Dmitrii Danilov"
      ]
    },
    {
      "cell_type": "code",
      "metadata": {
        "colab": {
          "base_uri": "https://localhost:8080/"
        },
        "id": "qy3oZbRoBKjS",
        "outputId": "4bea679c-7ca7-4e62-8577-24c745c2b6ae"
      },
      "source": [
        "!pip install PyShp\r\n",
        "!pip install socrata-py\r\n",
        "\r\n",
        "import io\r\n",
        "import zipfile\r\n",
        "import pandas as pd\r\n",
        "import shapefile\r\n",
        "import requests\r\n",
        "from shapely.geometry import Polygon"
      ],
      "execution_count": null,
      "outputs": [
        {
          "output_type": "stream",
          "text": [
            "Requirement already satisfied: PyShp in /usr/local/lib/python3.6/dist-packages (2.1.2)\n",
            "Requirement already satisfied: socrata-py in /usr/local/lib/python3.6/dist-packages (1.0.5)\n",
            "Requirement already satisfied: requests in /usr/local/lib/python3.6/dist-packages (from socrata-py) (2.23.0)\n",
            "Requirement already satisfied: urllib3!=1.25.0,!=1.25.1,<1.26,>=1.21.1 in /usr/local/lib/python3.6/dist-packages (from requests->socrata-py) (1.24.3)\n",
            "Requirement already satisfied: idna<3,>=2.5 in /usr/local/lib/python3.6/dist-packages (from requests->socrata-py) (2.10)\n",
            "Requirement already satisfied: certifi>=2017.4.17 in /usr/local/lib/python3.6/dist-packages (from requests->socrata-py) (2020.11.8)\n",
            "Requirement already satisfied: chardet<4,>=3.0.2 in /usr/local/lib/python3.6/dist-packages (from requests->socrata-py) (3.0.4)\n"
          ],
          "name": "stdout"
        }
      ]
    },
    {
      "cell_type": "code",
      "metadata": {
        "id": "HiEJJSVh_JG4"
      },
      "source": [
        "def import_taxi_zones():\r\n",
        "    taxi_zones = requests.get('https://s3.amazonaws.com/nyc-tlc/misc/taxi_zones.zip')\r\n",
        "    with zipfile.ZipFile(io.BytesIO(taxi_zones.content), 'r') as myzip:\r\n",
        "        sf = shapefile.Reader(shp=myzip.open('taxi_zones.shp'),\r\n",
        "                              shx=myzip.open('taxi_zones.shx'),\r\n",
        "                              dbf=myzip.open('taxi_zones.dbf'))\r\n",
        "\r\n",
        "    fields = [x[0].lower() for x in sf.fields][1:]\r\n",
        "    records = sf.records()\r\n",
        "    shps = [Polygon(s.points).wkt for s in sf.shapes()]\r\n",
        "    df = pd.DataFrame(columns=fields, data=records)\r\n",
        "    df = df.assign(coords=shps)\r\n",
        "    return df"
      ],
      "execution_count": null,
      "outputs": []
    },
    {
      "cell_type": "code",
      "metadata": {
        "colab": {
          "base_uri": "https://localhost:8080/",
          "height": 419
        },
        "id": "AtPpm6PiA_9t",
        "outputId": "a979b32e-417f-4d35-efff-974cd10c9828"
      },
      "source": [
        "import_taxi_zones().head()"
      ],
      "execution_count": null,
      "outputs": [
        {
          "output_type": "execute_result",
          "data": {
            "text/html": [
              "<div>\n",
              "<style scoped>\n",
              "    .dataframe tbody tr th:only-of-type {\n",
              "        vertical-align: middle;\n",
              "    }\n",
              "\n",
              "    .dataframe tbody tr th {\n",
              "        vertical-align: top;\n",
              "    }\n",
              "\n",
              "    .dataframe thead th {\n",
              "        text-align: right;\n",
              "    }\n",
              "</style>\n",
              "<table border=\"1\" class=\"dataframe\">\n",
              "  <thead>\n",
              "    <tr style=\"text-align: right;\">\n",
              "      <th></th>\n",
              "      <th>objectid</th>\n",
              "      <th>shape_leng</th>\n",
              "      <th>shape_area</th>\n",
              "      <th>zone</th>\n",
              "      <th>locationid</th>\n",
              "      <th>borough</th>\n",
              "      <th>coords</th>\n",
              "    </tr>\n",
              "  </thead>\n",
              "  <tbody>\n",
              "    <tr>\n",
              "      <th>0</th>\n",
              "      <td>1</td>\n",
              "      <td>0.116357</td>\n",
              "      <td>0.000782</td>\n",
              "      <td>Newark Airport</td>\n",
              "      <td>1</td>\n",
              "      <td>EWR</td>\n",
              "      <td>POLYGON ((933100.9183527103 192536.0856972019,...</td>\n",
              "    </tr>\n",
              "    <tr>\n",
              "      <th>1</th>\n",
              "      <td>2</td>\n",
              "      <td>0.433470</td>\n",
              "      <td>0.004866</td>\n",
              "      <td>Jamaica Bay</td>\n",
              "      <td>2</td>\n",
              "      <td>Queens</td>\n",
              "      <td>POLYGON ((1033269.243591294 172126.0078125, 10...</td>\n",
              "    </tr>\n",
              "    <tr>\n",
              "      <th>2</th>\n",
              "      <td>3</td>\n",
              "      <td>0.084341</td>\n",
              "      <td>0.000314</td>\n",
              "      <td>Allerton/Pelham Gardens</td>\n",
              "      <td>3</td>\n",
              "      <td>Bronx</td>\n",
              "      <td>POLYGON ((1026308.769506663 256767.6975403726,...</td>\n",
              "    </tr>\n",
              "    <tr>\n",
              "      <th>3</th>\n",
              "      <td>4</td>\n",
              "      <td>0.043567</td>\n",
              "      <td>0.000112</td>\n",
              "      <td>Alphabet City</td>\n",
              "      <td>4</td>\n",
              "      <td>Manhattan</td>\n",
              "      <td>POLYGON ((992073.4667968601 203714.0759887695,...</td>\n",
              "    </tr>\n",
              "    <tr>\n",
              "      <th>4</th>\n",
              "      <td>5</td>\n",
              "      <td>0.092146</td>\n",
              "      <td>0.000498</td>\n",
              "      <td>Arden Heights</td>\n",
              "      <td>5</td>\n",
              "      <td>Staten Island</td>\n",
              "      <td>POLYGON ((935843.3104932606 144283.335850656, ...</td>\n",
              "    </tr>\n",
              "    <tr>\n",
              "      <th>...</th>\n",
              "      <td>...</td>\n",
              "      <td>...</td>\n",
              "      <td>...</td>\n",
              "      <td>...</td>\n",
              "      <td>...</td>\n",
              "      <td>...</td>\n",
              "      <td>...</td>\n",
              "    </tr>\n",
              "    <tr>\n",
              "      <th>258</th>\n",
              "      <td>259</td>\n",
              "      <td>0.126750</td>\n",
              "      <td>0.000395</td>\n",
              "      <td>Woodlawn/Wakefield</td>\n",
              "      <td>259</td>\n",
              "      <td>Bronx</td>\n",
              "      <td>POLYGON ((1025414.781960189 270986.1393638253,...</td>\n",
              "    </tr>\n",
              "    <tr>\n",
              "      <th>259</th>\n",
              "      <td>260</td>\n",
              "      <td>0.133514</td>\n",
              "      <td>0.000422</td>\n",
              "      <td>Woodside</td>\n",
              "      <td>260</td>\n",
              "      <td>Queens</td>\n",
              "      <td>POLYGON ((1011466.966050446 216463.0052037984,...</td>\n",
              "    </tr>\n",
              "    <tr>\n",
              "      <th>260</th>\n",
              "      <td>261</td>\n",
              "      <td>0.027120</td>\n",
              "      <td>0.000034</td>\n",
              "      <td>World Trade Center</td>\n",
              "      <td>261</td>\n",
              "      <td>Manhattan</td>\n",
              "      <td>POLYGON ((980555.2043112218 196138.486258477, ...</td>\n",
              "    </tr>\n",
              "    <tr>\n",
              "      <th>261</th>\n",
              "      <td>262</td>\n",
              "      <td>0.049064</td>\n",
              "      <td>0.000122</td>\n",
              "      <td>Yorkville East</td>\n",
              "      <td>262</td>\n",
              "      <td>Manhattan</td>\n",
              "      <td>POLYGON ((999804.7945504487 224498.5270484537,...</td>\n",
              "    </tr>\n",
              "    <tr>\n",
              "      <th>262</th>\n",
              "      <td>263</td>\n",
              "      <td>0.037017</td>\n",
              "      <td>0.000066</td>\n",
              "      <td>Yorkville West</td>\n",
              "      <td>263</td>\n",
              "      <td>Manhattan</td>\n",
              "      <td>POLYGON ((997493.3227153122 220912.3861623257,...</td>\n",
              "    </tr>\n",
              "  </tbody>\n",
              "</table>\n",
              "<p>263 rows × 7 columns</p>\n",
              "</div>"
            ],
            "text/plain": [
              "     objectid  ...                                             coords\n",
              "0           1  ...  POLYGON ((933100.9183527103 192536.0856972019,...\n",
              "1           2  ...  POLYGON ((1033269.243591294 172126.0078125, 10...\n",
              "2           3  ...  POLYGON ((1026308.769506663 256767.6975403726,...\n",
              "3           4  ...  POLYGON ((992073.4667968601 203714.0759887695,...\n",
              "4           5  ...  POLYGON ((935843.3104932606 144283.335850656, ...\n",
              "..        ...  ...                                                ...\n",
              "258       259  ...  POLYGON ((1025414.781960189 270986.1393638253,...\n",
              "259       260  ...  POLYGON ((1011466.966050446 216463.0052037984,...\n",
              "260       261  ...  POLYGON ((980555.2043112218 196138.486258477, ...\n",
              "261       262  ...  POLYGON ((999804.7945504487 224498.5270484537,...\n",
              "262       263  ...  POLYGON ((997493.3227153122 220912.3861623257,...\n",
              "\n",
              "[263 rows x 7 columns]"
            ]
          },
          "metadata": {
            "tags": []
          },
          "execution_count": 8
        }
      ]
    },
    {
      "cell_type": "code",
      "metadata": {
        "id": "kGE262iuFlo3"
      },
      "source": [
        ""
      ],
      "execution_count": null,
      "outputs": []
    }
  ]
}
